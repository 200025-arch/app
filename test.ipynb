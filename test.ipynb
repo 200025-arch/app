{
 "cells": [
  {
   "cell_type": "code",
   "execution_count": 1,
   "id": "ce7ddf74",
   "metadata": {},
   "outputs": [],
   "source": [
    "a = 1"
   ]
  },
  {
   "cell_type": "code",
   "execution_count": 3,
   "id": "14ee0d38",
   "metadata": {},
   "outputs": [
    {
     "name": "stdout",
     "output_type": "stream",
     "text": [
      "[('Peche', 2), ('Banana', 8), ('kiwi', 9), ('Fraise', 12), ('Pomme', 15)]\n"
     ]
    }
   ],
   "source": [
    "l = [(\"Pomme\", 15), (\"Banana\", 8), (\"Fraise\", 12), (\"kiwi\", 9), (\"Peche\", 2)]\n",
    "l.sort(key = lambda x:x[1])\n",
    "print(l)"
   ]
  },
  {
   "cell_type": "code",
   "execution_count": 4,
   "id": "a1e9dcf0",
   "metadata": {},
   "outputs": [
    {
     "name": "stdout",
     "output_type": "stream",
     "text": [
      "ednom el ruojnoB\n"
     ]
    }
   ],
   "source": [
    "ch = \"Bonjour le monde\"\n",
    "ch_reverse = ch[::-1]\n",
    "print(ch_reverse)"
   ]
  },
  {
   "cell_type": "code",
   "execution_count": 12,
   "id": "9481c21f",
   "metadata": {},
   "outputs": [
    {
     "name": "stdout",
     "output_type": "stream",
     "text": [
      "3\n",
      "7\n",
      "1\n",
      "11\n"
     ]
    }
   ],
   "source": [
    "dikt = {\n",
    "    \"Pomme\" :3,\n",
    "    \"Banane\":7,\n",
    "    \"Kiwi\":1\n",
    "}\n",
    "\n",
    "print(dikt[\"Pomme\"])\n",
    "print(dikt[\"Banane\"])\n",
    "print(dikt[\"Kiwi\"])\n",
    "\n",
    "somme = sum(dikt.values())\n",
    "print(somme)\n"
   ]
  },
  {
   "cell_type": "code",
   "execution_count": 20,
   "id": "e0ccf278",
   "metadata": {},
   "outputs": [
    {
     "name": "stdout",
     "output_type": "stream",
     "text": [
      "Table de 8 :\n",
      "8 * 0 = 0\n",
      "8 * 1 = 8\n",
      "8 * 2 = 16\n",
      "8 * 3 = 24\n",
      "8 * 4 = 32\n",
      "8 * 5 = 40\n",
      "8 * 6 = 48\n",
      "8 * 7 = 56\n",
      "8 * 8 = 64\n",
      "8 * 9 = 72\n",
      "8 * 10 = 80\n"
     ]
    }
   ],
   "source": [
    "table_8 = 8\n",
    "\n",
    "\n",
    "print(\"Table de 8 :\")\n",
    "for i in range(11):\n",
    "    print(f\"{table_8} * {i} = {table_8 * i}\")\n"
   ]
  },
  {
   "cell_type": "code",
   "execution_count": 21,
   "id": "9e4a17a2",
   "metadata": {},
   "outputs": [],
   "source": [
    "import os"
   ]
  },
  {
   "cell_type": "code",
   "execution_count": 22,
   "id": "5148a5fd",
   "metadata": {},
   "outputs": [
    {
     "name": "stdout",
     "output_type": "stream",
     "text": [
      "c:\\Users\\mvoum\\Desktop\\Boot_camp\\Python\n"
     ]
    }
   ],
   "source": [
    "print(os.getcwd())"
   ]
  }
 ],
 "metadata": {
  "kernelspec": {
   "display_name": ".tonny",
   "language": "python",
   "name": "python3"
  },
  "language_info": {
   "codemirror_mode": {
    "name": "ipython",
    "version": 3
   },
   "file_extension": ".py",
   "mimetype": "text/x-python",
   "name": "python",
   "nbconvert_exporter": "python",
   "pygments_lexer": "ipython3",
   "version": "3.14.0"
  }
 },
 "nbformat": 4,
 "nbformat_minor": 5
}
