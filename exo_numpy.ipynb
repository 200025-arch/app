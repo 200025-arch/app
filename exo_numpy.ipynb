{
 "cells": [
  {
   "cell_type": "code",
   "execution_count": 1,
   "id": "5eeaff17",
   "metadata": {},
   "outputs": [],
   "source": [
    "a = 1 "
   ]
  },
  {
   "cell_type": "code",
   "execution_count": 2,
   "id": "226ae4b5",
   "metadata": {},
   "outputs": [],
   "source": [
    "import numpy as np"
   ]
  },
  {
   "cell_type": "markdown",
   "id": "c7378dc2",
   "metadata": {},
   "source": [
    "#### Exo 1"
   ]
  },
  {
   "cell_type": "code",
   "execution_count": 3,
   "id": "5bb94f42",
   "metadata": {},
   "outputs": [
    {
     "name": "stdout",
     "output_type": "stream",
     "text": [
      "Original array :\n"
     ]
    },
    {
     "data": {
      "text/plain": [
       "array([[ 3,  7,  4,  7, 20],\n",
       "       [ 9, 12, 16, 10, 14],\n",
       "       [ 1, 13, 15,  4, 17],\n",
       "       [17, 11, 16, 15,  1],\n",
       "       [14, 11, 10, 13, 20]], dtype=int32)"
      ]
     },
     "execution_count": 3,
     "metadata": {},
     "output_type": "execute_result"
    }
   ],
   "source": [
    "# Create a NumPy array of shape (5, 5) filled with random integers\n",
    "my_array = np.random.randint(1, 21, size=(5,5))\n",
    "\n",
    "print(\"Original array :\")\n",
    "my_array"
   ]
  },
  {
   "cell_type": "code",
   "execution_count": 4,
   "id": "9db60a3c",
   "metadata": {},
   "outputs": [
    {
     "name": "stdout",
     "output_type": "stream",
     "text": [
      "Modified array :\n"
     ]
    },
    {
     "data": {
      "text/plain": [
       "array([[ 3,  7,  1,  7, 20],\n",
       "       [ 9, 12,  1, 10, 14],\n",
       "       [ 1, 13,  1,  4, 17],\n",
       "       [17, 11,  1, 15,  1],\n",
       "       [14, 11,  1, 13, 20]], dtype=int32)"
      ]
     },
     "execution_count": 4,
     "metadata": {},
     "output_type": "execute_result"
    }
   ],
   "source": [
    "#Replace all the elements in the third column with 1\n",
    "my_array[:,2]= 1\n",
    "\n",
    "print(\"Modified array :\")\n",
    "my_array"
   ]
  },
  {
   "cell_type": "markdown",
   "id": "13272929",
   "metadata": {},
   "source": [
    "##### Exo 2"
   ]
  },
  {
   "cell_type": "code",
   "execution_count": 5,
   "id": "05c3d98f",
   "metadata": {},
   "outputs": [
    {
     "name": "stdout",
     "output_type": "stream",
     "text": [
      "Original array :\n"
     ]
    },
    {
     "data": {
      "text/plain": [
       "array([[15, 15, 10,  1],\n",
       "       [ 7, 11, 11, 16],\n",
       "       [ 4,  5, 15,  4],\n",
       "       [16,  1,  5,  9]], dtype=int32)"
      ]
     },
     "execution_count": 5,
     "metadata": {},
     "output_type": "execute_result"
    }
   ],
   "source": [
    "# Create a NumPy array of shape (4, 4) with values from 1 to 16\n",
    "my_array = np.random.randint(1, 17, size=(4, 4))\n",
    "\n",
    "print(\"Original array :\")\n",
    "my_array"
   ]
  },
  {
   "cell_type": "code",
   "execution_count": 6,
   "id": "1c4a1d55",
   "metadata": {},
   "outputs": [
    {
     "name": "stdout",
     "output_type": "stream",
     "text": [
      "Modified array :\n"
     ]
    },
    {
     "data": {
      "text/plain": [
       "array([[ 0, 15, 10,  1],\n",
       "       [ 7,  0, 11, 16],\n",
       "       [ 4,  5,  0,  4],\n",
       "       [16,  1,  5,  0]], dtype=int32)"
      ]
     },
     "execution_count": 6,
     "metadata": {},
     "output_type": "execute_result"
    }
   ],
   "source": [
    "# Replace the diagonal elements with 0\n",
    "np.fill_diagonal(my_array, 0)\n",
    "\n",
    "print(\"Modified array :\")\n",
    "my_array"
   ]
  },
  {
   "cell_type": "markdown",
   "id": "02879129",
   "metadata": {},
   "source": [
    "#### Exo 3"
   ]
  },
  {
   "cell_type": "code",
   "execution_count": 7,
   "id": "6745d962",
   "metadata": {},
   "outputs": [
    {
     "name": "stdout",
     "output_type": "stream",
     "text": [
      "Original array :\n",
      "\n",
      "[[ 1  2  3  4  5  6]\n",
      " [ 7  8  9 10 11 12]\n",
      " [13 14 15 16 17 18]\n",
      " [19 20 21 22 23 24]\n",
      " [25 26 27 28 29 30]\n",
      " [31 32 33 34 35 36]]\n"
     ]
    }
   ],
   "source": [
    "my_array = np.arange(1, 37).reshape(6, 6)\n",
    "print(\"Original array :\\n\")\n",
    "print(my_array)"
   ]
  },
  {
   "cell_type": "code",
   "execution_count": 8,
   "id": "7c6f2cd3",
   "metadata": {},
   "outputs": [
    {
     "name": "stdout",
     "output_type": "stream",
     "text": [
      "Modified array :\n",
      "\n",
      "[[14 15 16]\n",
      " [20 21 22]\n",
      " [26 27 28]]\n"
     ]
    }
   ],
   "source": [
    "# Extract the sub-array\n",
    "\n",
    "sub_array = my_array[2:5, 1:4]\n",
    "\n",
    "print(\"Modified array :\\n\")\n",
    "print(sub_array)"
   ]
  },
  {
   "cell_type": "markdown",
   "id": "8aaac52f",
   "metadata": {},
   "source": [
    "#### Exo 4"
   ]
  },
  {
   "cell_type": "code",
   "execution_count": 9,
   "id": "4535816c",
   "metadata": {},
   "outputs": [
    {
     "name": "stdout",
     "output_type": "stream",
     "text": [
      "Original array :\n",
      "\n",
      "[[12 20 14  1 12]\n",
      " [13 11  8 14 19]\n",
      " [ 4  8 18  5  4]\n",
      " [ 4  4 19 11 16]\n",
      " [ 7 18  5  7  2]]\n"
     ]
    }
   ],
   "source": [
    "array = np.random.randint(1, 21, size=(5,5))\n",
    "\n",
    "print(\"Original array :\\n\")\n",
    "print(array)"
   ]
  },
  {
   "cell_type": "code",
   "execution_count": 10,
   "id": "84bffed9",
   "metadata": {},
   "outputs": [
    {
     "name": "stdout",
     "output_type": "stream",
     "text": [
      "[12 19  4 16  2]\n"
     ]
    }
   ],
   "source": [
    "border1 = array[:,-1]\n",
    "print(border1)"
   ]
  },
  {
   "cell_type": "code",
   "execution_count": 11,
   "id": "01ced271",
   "metadata": {},
   "outputs": [
    {
     "name": "stdout",
     "output_type": "stream",
     "text": [
      "[12 13  4  4  7]\n"
     ]
    }
   ],
   "source": [
    "border2 = array[:, 0]\n",
    "print(border2)"
   ]
  },
  {
   "cell_type": "code",
   "execution_count": 12,
   "id": "d03885ea",
   "metadata": {},
   "outputs": [
    {
     "name": "stdout",
     "output_type": "stream",
     "text": [
      "[12 20 14  1 12]\n"
     ]
    }
   ],
   "source": [
    "border3 = array[0,:]\n",
    "print(border3)"
   ]
  },
  {
   "cell_type": "code",
   "execution_count": 13,
   "id": "bfcc716a",
   "metadata": {},
   "outputs": [
    {
     "name": "stdout",
     "output_type": "stream",
     "text": [
      "[ 7 18  5  7  2]\n"
     ]
    }
   ],
   "source": [
    "border4 = array[4,:]\n",
    "print(border4)"
   ]
  },
  {
   "cell_type": "code",
   "execution_count": 14,
   "id": "bf6c7aae",
   "metadata": {},
   "outputs": [
    {
     "name": "stdout",
     "output_type": "stream",
     "text": [
      "[array([12, 19,  4, 16,  2], dtype=int32), array([12, 13,  4,  4,  7], dtype=int32), array([12, 20, 14,  1, 12], dtype=int32), array([ 7, 18,  5,  7,  2], dtype=int32)]\n"
     ]
    }
   ],
   "source": [
    "border5 = [border1, border2, border3, border4]\n",
    "print(border5)"
   ]
  },
  {
   "cell_type": "code",
   "execution_count": 15,
   "id": "6d41508f",
   "metadata": {},
   "outputs": [
    {
     "name": "stdout",
     "output_type": "stream",
     "text": [
      "[12 19  4 16  2 12 13  4  4  7 12 20 14  1 12  7 18  5  7  2]\n"
     ]
    }
   ],
   "source": [
    "border_elements = np.concatenate((border1, border2, border3, border4))\n",
    "print(border_elements)"
   ]
  },
  {
   "cell_type": "markdown",
   "id": "967a3b4f",
   "metadata": {},
   "source": [
    "#### Exo 5"
   ]
  },
  {
   "cell_type": "code",
   "execution_count": 16,
   "id": "6736fadf",
   "metadata": {},
   "outputs": [
    {
     "name": "stdout",
     "output_type": "stream",
     "text": [
      "Premier array :\n",
      "\n",
      "[[9 5 2 2]\n",
      " [3 7 1 4]\n",
      " [5 2 3 3]]\n",
      "Second array :\n",
      "\n",
      "[[ 7  3 10  5]\n",
      " [10  1  9  1]\n",
      " [ 6  3  7  6]]\n"
     ]
    }
   ],
   "source": [
    "# Create two NumPy arrays of shape (3, 4) filled with random integers\n",
    "array1 = np.random.randint(1, 13, size=(3,4))\n",
    "array2 = np.random.randint(1, 13, size=(3,4))\n",
    "\n",
    "print(\"Premier array :\\n\")\n",
    "print(array1)\n",
    "\n",
    "print(\"Second array :\\n\")\n",
    "print(array2)"
   ]
  },
  {
   "cell_type": "code",
   "execution_count": 17,
   "id": "5d0be6cc",
   "metadata": {},
   "outputs": [
    {
     "name": "stdout",
     "output_type": "stream",
     "text": [
      "La somme des deux est :\n",
      "\n",
      "[[16  8 12  7]\n",
      " [13  8 10  5]\n",
      " [11  5 10  9]] \n",
      "\n",
      "La soustraction des deux est :\n",
      "\n",
      "[[ 2  2 -8 -3]\n",
      " [-7  6 -8  3]\n",
      " [-1 -1 -4 -3]] \n",
      "\n",
      "La division des deux est :\n",
      "\n",
      "[[1.28571429 1.66666667 0.2        0.4       ]\n",
      " [0.3        7.         0.11111111 4.        ]\n",
      " [0.83333333 0.66666667 0.42857143 0.5       ]] \n",
      "\n",
      "La multiplication des deux est :\n",
      "\n",
      "[[63 15 20 10]\n",
      " [30  7  9  4]\n",
      " [30  6 21 18]]\n"
     ]
    }
   ],
   "source": [
    "#Opérations\n",
    "#Addition\n",
    "print(\"La somme des deux est :\\n\")\n",
    "print(array1 + array2, '\\n')\n",
    "\n",
    "print(\"La soustraction des deux est :\\n\")\n",
    "print(array1 - array2, '\\n')\n",
    "\n",
    "print(\"La division des deux est :\\n\")\n",
    "print(array1 / array2,'\\n')\n",
    "\n",
    "print(\"La multiplication des deux est :\\n\")\n",
    "print(array1 * array2)"
   ]
  },
  {
   "cell_type": "markdown",
   "id": "cf94d0b5",
   "metadata": {},
   "source": [
    "#### Exo 6"
   ]
  },
  {
   "cell_type": "code",
   "execution_count": 18,
   "id": "cd7211eb",
   "metadata": {},
   "outputs": [
    {
     "name": "stdout",
     "output_type": "stream",
     "text": [
      "Original array :\n",
      "\n",
      "[[ 1  2  3  4]\n",
      " [ 5  6  7  8]\n",
      " [ 9 10 11 12]\n",
      " [13 14 15 16]]\n"
     ]
    }
   ],
   "source": [
    "array = np.arange(1, 17).reshape(4, 4)\n",
    "\n",
    "print(\"Original array :\\n\")\n",
    "print(array)"
   ]
  },
  {
   "cell_type": "code",
   "execution_count": 19,
   "id": "5fccdd68",
   "metadata": {},
   "outputs": [
    {
     "name": "stdout",
     "output_type": "stream",
     "text": [
      "Somme des lignes : [10 26 42 58] \n",
      "\n",
      "Somme des colonnes : [28 32 36 40] \n",
      "\n"
     ]
    }
   ],
   "source": [
    "#somme des lignes\n",
    "rows_sum = np.sum(array, axis=1)\n",
    "\n",
    "print(f\"Somme des lignes : {rows_sum} \\n\")\n",
    "\n",
    "#somme des colonnes\n",
    "columns_sum = np.sum(array, axis=0)\n",
    "print(f\"Somme des colonnes : {columns_sum} \\n\")"
   ]
  },
  {
   "cell_type": "markdown",
   "id": "781507a7",
   "metadata": {},
   "source": [
    "#### Exo 7"
   ]
  },
  {
   "cell_type": "code",
   "execution_count": 20,
   "id": "0556681c",
   "metadata": {},
   "outputs": [
    {
     "name": "stdout",
     "output_type": "stream",
     "text": [
      "Original array :\n",
      "\n",
      "[[15 22 13 14  7]\n",
      " [15  5 22  5  7]\n",
      " [23  5 15 20 11]\n",
      " [17 13 22  8 17]\n",
      " [ 9 25 14 19 22]]\n"
     ]
    }
   ],
   "source": [
    "# Create a NumPy array of shape (5, 5) filled with random integers\n",
    "array = np.random.randint(5, 26, size=(5,5))\n",
    "print(\"Original array :\\n\")\n",
    "print(array)"
   ]
  },
  {
   "cell_type": "code",
   "execution_count": 21,
   "id": "b5cd149b",
   "metadata": {},
   "outputs": [
    {
     "name": "stdout",
     "output_type": "stream",
     "text": [
      "La moyenne : 14.6 \n",
      "\n",
      "La mediane : 15.0 \n",
      "\n",
      "La deviation standard : 6.144916598294887\n",
      "\n",
      "La variance : 37.76 \n",
      "\n"
     ]
    }
   ],
   "source": [
    "array_mean = np.mean(array)\n",
    "array_median = np.median(array)\n",
    "array_std_deviation = np.std(array)\n",
    "array_variance = np.var(array)\n",
    "\n",
    "print(f\"La moyenne : {array_mean} \\n\")\n",
    "print(f\"La mediane : {array_median} \\n\")\n",
    "print(f\"La deviation standard : {array_std_deviation}\\n\")\n",
    "print(f\"La variance : {array_variance} \\n\")"
   ]
  },
  {
   "cell_type": "markdown",
   "id": "90358b5a",
   "metadata": {},
   "source": [
    "#### Exo 8"
   ]
  },
  {
   "cell_type": "code",
   "execution_count": 22,
   "id": "73b20ce9",
   "metadata": {},
   "outputs": [
    {
     "name": "stdout",
     "output_type": "stream",
     "text": [
      "Original array :\n",
      "\n",
      "[[1 2 3]\n",
      " [4 5 6]\n",
      " [7 8 9]]\n"
     ]
    }
   ],
   "source": [
    "array = np.arange(1, 10).reshape(3, 3)\n",
    "print(\"Original array :\\n\")\n",
    "print(array)"
   ]
  },
  {
   "cell_type": "code",
   "execution_count": 23,
   "id": "3e6c98fb",
   "metadata": {},
   "outputs": [
    {
     "name": "stdout",
     "output_type": "stream",
     "text": [
      "Normalized array:\n",
      "[[-1.54919334 -1.161895   -0.77459667]\n",
      " [-0.38729833  0.          0.38729833]\n",
      " [ 0.77459667  1.161895    1.54919334]]\n"
     ]
    }
   ],
   "source": [
    "# Normalize the array\n",
    "mean = np.mean(array)\n",
    "std_dev = np.std(array)\n",
    "normalized_array = (array - mean) / std_dev\n",
    "\n",
    "print(\"Normalized array:\")\n",
    "print(normalized_array)"
   ]
  },
  {
   "cell_type": "markdown",
   "id": "ae5844b1",
   "metadata": {},
   "source": [
    "#### Exo9"
   ]
  },
  {
   "cell_type": "code",
   "execution_count": 24,
   "id": "7d272d52",
   "metadata": {},
   "outputs": [
    {
     "name": "stdout",
     "output_type": "stream",
     "text": [
      "The original array :\n",
      "\n",
      "[[2 3 4]\n",
      " [7 4 5]\n",
      " [4 3 4]]\n"
     ]
    }
   ],
   "source": [
    "array = np.random.randint(1, 10, size=(3,3))\n",
    "print(\"The original array :\\n\")\n",
    "print(array)"
   ]
  },
  {
   "cell_type": "code",
   "execution_count": 25,
   "id": "3f1f4b0d",
   "metadata": {},
   "outputs": [
    {
     "name": "stdout",
     "output_type": "stream",
     "text": [
      "The one dimension array :\n",
      "\n",
      "[5 4 9]\n"
     ]
    }
   ],
   "source": [
    "#One dimension array\n",
    "one_dimension_array = np.random.randint(1, 10, size=(3,))\n",
    "print(\"The one dimension array :\\n\")\n",
    "print(one_dimension_array)"
   ]
  },
  {
   "cell_type": "code",
   "execution_count": 26,
   "id": "6a623290",
   "metadata": {},
   "outputs": [
    {
     "name": "stdout",
     "output_type": "stream",
     "text": [
      "[ 7  7 13]\n",
      "[12  8 14]\n",
      "[ 9  7 13]\n"
     ]
    }
   ],
   "source": [
    "for x in array:\n",
    "    print( x + one_dimension_array)"
   ]
  },
  {
   "cell_type": "code",
   "execution_count": 27,
   "id": "38f92b47",
   "metadata": {},
   "outputs": [
    {
     "name": "stdout",
     "output_type": "stream",
     "text": [
      "[[ 7  7 13]\n",
      " [12  8 14]\n",
      " [ 9  7 13]]\n"
     ]
    }
   ],
   "source": [
    "#Une autre façon de le faire\n",
    "result = one_dimension_array + array\n",
    "\n",
    "print(result)"
   ]
  },
  {
   "cell_type": "markdown",
   "id": "38a7076c",
   "metadata": {},
   "source": [
    "#### Exo 10"
   ]
  },
  {
   "cell_type": "code",
   "execution_count": 28,
   "id": "15216172",
   "metadata": {},
   "outputs": [
    {
     "name": "stdout",
     "output_type": "stream",
     "text": [
      "The 2D array :\n",
      "\n",
      "[[11  4  3 16]\n",
      " [ 1 12  4 10]\n",
      " [ 3  6  5 16]\n",
      " [ 3  9  6  8]] \n",
      "\n",
      "The 1D array :\n",
      "\n",
      "[13  8 12 13]\n"
     ]
    }
   ],
   "source": [
    "# Create a NumPy array of shape (4, 4) filled with random integers\n",
    "array = np.random.randint(1, 17, size=(4, 4))\n",
    "one_d_array = np.random.randint(1, 17, size=(4,))\n",
    "\n",
    "print(\"The 2D array :\\n\")\n",
    "print(array, '\\n')\n",
    "\n",
    "print(\"The 1D array :\\n\")\n",
    "print(one_d_array)"
   ]
  },
  {
   "cell_type": "code",
   "execution_count": 29,
   "id": "aed2784b",
   "metadata": {},
   "outputs": [
    {
     "name": "stdout",
     "output_type": "stream",
     "text": [
      "The last array :\n",
      "\n",
      "[[ -2  -4  -9   3]\n",
      " [-12   4  -8  -3]\n",
      " [-10  -2  -7   3]\n",
      " [-10   1  -6  -5]]\n"
     ]
    }
   ],
   "source": [
    "#Soustarction 1D - 2D\n",
    "soustra = array - one_d_array\n",
    "print(\"The last array :\\n\")\n",
    "print(soustra)"
   ]
  },
  {
   "cell_type": "markdown",
   "id": "5b409876",
   "metadata": {},
   "source": [
    "#### Exo11"
   ]
  },
  {
   "cell_type": "code",
   "execution_count": 30,
   "id": "2f114dec",
   "metadata": {},
   "outputs": [
    {
     "name": "stdout",
     "output_type": "stream",
     "text": [
      "The matrix :\n",
      "\n",
      "[[7 6 6]\n",
      " [8 9 5]\n",
      " [6 6 4]]\n"
     ]
    }
   ],
   "source": [
    "# Create a NumPy array of shape (3, 3) representing a matrix\n",
    "matrix = np.random.randint(1, 10, size=(3, 3))\n",
    "print(\"The matrix :\\n\")\n",
    "print(matrix)"
   ]
  },
  {
   "cell_type": "code",
   "execution_count": 31,
   "id": "3478ab35",
   "metadata": {},
   "outputs": [
    {
     "name": "stdout",
     "output_type": "stream",
     "text": [
      "Determinant: -6.000000000000003\n",
      "Inverse:\n",
      "[[-1.         -2.          4.        ]\n",
      " [ 0.33333333  1.33333333 -2.16666667]\n",
      " [ 1.          1.         -2.5       ]]\n",
      "Eigenvalues: [19.31070844 -0.31070844  1.        ]\n"
     ]
    }
   ],
   "source": [
    "# Compute the determinant\n",
    "determinant = np.linalg.det(matrix)\n",
    "print(\"Determinant:\", determinant)\n",
    "\n",
    "# Compute the inverse\n",
    "inverse = np.linalg.inv(matrix)\n",
    "print(\"Inverse:\")\n",
    "print(inverse)\n",
    "\n",
    "# Compute the eigenvalues\n",
    "eigenvalues = np.linalg.eigvals(matrix)\n",
    "print(\"Eigenvalues:\", eigenvalues)"
   ]
  },
  {
   "cell_type": "markdown",
   "id": "59e287b7",
   "metadata": {},
   "source": [
    "#### Exo 12"
   ]
  },
  {
   "cell_type": "code",
   "execution_count": 32,
   "id": "5566f09d",
   "metadata": {},
   "outputs": [
    {
     "name": "stdout",
     "output_type": "stream",
     "text": [
      "Array 1 :\n",
      "\n",
      "[[2 1 1]\n",
      " [3 6 2]] \n",
      "\n",
      "Array 2: \n",
      "\n",
      "[[3 2]\n",
      " [4 6]\n",
      " [4 4]]\n"
     ]
    }
   ],
   "source": [
    "array1 = np.random.randint(1, 7, size=(2, 3))\n",
    "array2 = np.random.randint(1, 7, size=(3, 2))\n",
    "\n",
    "print(\"Array 1 :\\n\")\n",
    "print(array1, '\\n')\n",
    "\n",
    "print(\"Array 2: \\n\")\n",
    "print(array2)"
   ]
  },
  {
   "cell_type": "code",
   "execution_count": 33,
   "id": "1525b4a0",
   "metadata": {},
   "outputs": [
    {
     "name": "stdout",
     "output_type": "stream",
     "text": [
      "[[14 14]\n",
      " [41 50]]\n"
     ]
    }
   ],
   "source": [
    "# Perform matrix multiplication\n",
    "\n",
    "arr = np.dot(array1, array2)\n",
    "print(arr)"
   ]
  },
  {
   "cell_type": "markdown",
   "id": "8e68811a",
   "metadata": {},
   "source": [
    "#### Exo 13"
   ]
  },
  {
   "cell_type": "code",
   "execution_count": 34,
   "id": "5393cd34",
   "metadata": {},
   "outputs": [
    {
     "name": "stdout",
     "output_type": "stream",
     "text": [
      "Array 1 :\n",
      "\n",
      "[[1 2 3]\n",
      " [4 5 6]\n",
      " [7 8 9]] \n",
      "\n",
      "Array 2 :\n",
      "\n",
      "[[1 2 3 4 5 6 7 8 9]] \n",
      "\n",
      "Array 3 :\n",
      "\n",
      "[[1]\n",
      " [2]\n",
      " [3]\n",
      " [4]\n",
      " [5]\n",
      " [6]\n",
      " [7]\n",
      " [8]\n",
      " [9]]\n"
     ]
    }
   ],
   "source": [
    "array = np.arange(1, 10).reshape(3, 3)\n",
    "\n",
    "print(\"Array 1 :\\n\")\n",
    "print(array, '\\n')\n",
    "\n",
    "array2 = array.reshape(1, 9)\n",
    "\n",
    "print(\"Array 2 :\\n\")\n",
    "print(array2, '\\n')\n",
    "\n",
    "array3 = array.reshape(9, 1)\n",
    "\n",
    "print(\"Array 3 :\\n\")\n",
    "print(array3)"
   ]
  },
  {
   "cell_type": "markdown",
   "id": "da82cb3a",
   "metadata": {},
   "source": [
    "#### Exo 14"
   ]
  },
  {
   "cell_type": "code",
   "execution_count": 35,
   "id": "511b6b42",
   "metadata": {},
   "outputs": [
    {
     "name": "stdout",
     "output_type": "stream",
     "text": [
      "The original array :\n",
      "\n",
      "[[16 25 22  7  7]\n",
      " [18 17 21 17 19]\n",
      " [16  8 17  5 23]\n",
      " [15  5 25 24 14]\n",
      " [13 16  7  7 16]]\n"
     ]
    }
   ],
   "source": [
    "array = np.random.randint(5, 26, size=(5, 5))\n",
    "\n",
    "print(\"The original array :\\n\")\n",
    "print(array)"
   ]
  },
  {
   "cell_type": "code",
   "execution_count": 36,
   "id": "666071b9",
   "metadata": {},
   "outputs": [
    {
     "name": "stdout",
     "output_type": "stream",
     "text": [
      "Flatten array :\n",
      "\n",
      "[16 25 22  7  7 18 17 21 17 19 16  8 17  5 23 15  5 25 24 14 13 16  7  7\n",
      " 16] \n",
      "\n",
      "Reshape array :\n",
      "\n",
      "[[16 25 22  7  7]\n",
      " [18 17 21 17 19]\n",
      " [16  8 17  5 23]\n",
      " [15  5 25 24 14]\n",
      " [13 16  7  7 16]]\n"
     ]
    }
   ],
   "source": [
    "#Flatten array\n",
    "\n",
    "array_flatten = array.flatten()\n",
    "print(\"Flatten array :\\n\")\n",
    "print(array_flatten, '\\n')\n",
    "\n",
    "# Reshape the array back to (5, 5)\n",
    "reshaped_array = array_flatten.reshape(5, 5)\n",
    "print(\"Reshape array :\\n\")\n",
    "print(reshaped_array)"
   ]
  },
  {
   "cell_type": "markdown",
   "id": "d4ea52d8",
   "metadata": {},
   "source": [
    "#### Exo 15"
   ]
  },
  {
   "cell_type": "code",
   "execution_count": 37,
   "id": "3cb07732",
   "metadata": {},
   "outputs": [
    {
     "name": "stdout",
     "output_type": "stream",
     "text": [
      "The original array :\n",
      "\n",
      "[[16  5 11  7  7]\n",
      " [ 8  8 20 12  6]\n",
      " [18 16  3 14 19]\n",
      " [18  2 19  8 16]\n",
      " [17  7 15 20 17]]\n"
     ]
    }
   ],
   "source": [
    "# Create a NumPy array of shape (5, 5) filled with random integers\n",
    "array = np.random.randint(1, 21, size=(5, 5))\n",
    "print(\"The original array :\\n\")\n",
    "print(array)"
   ]
  },
  {
   "cell_type": "code",
   "execution_count": 39,
   "id": "d9e7baa0",
   "metadata": {},
   "outputs": [
    {
     "name": "stdout",
     "output_type": "stream",
     "text": [
      "Corner elements:\n",
      "[14 10 15 14]\n"
     ]
    }
   ],
   "source": [
    "# Use fancy indexing to extract the elements at the corners of the array\n",
    "corners = array[[0, 0, -1, -1], [0, -1, 0, -1]]\n",
    "print(\"Corner elements:\")\n",
    "print(corners)"
   ]
  },
  {
   "cell_type": "markdown",
   "id": "f74448d0",
   "metadata": {},
   "source": [
    "#### Exo 16"
   ]
  },
  {
   "cell_type": "code",
   "execution_count": 38,
   "id": "78659f65",
   "metadata": {},
   "outputs": [
    {
     "name": "stdout",
     "output_type": "stream",
     "text": [
      "The original array :\n",
      "\n",
      "[[ 8  4 18 14]\n",
      " [19 13 19  5]\n",
      " [16  4  4  7]\n",
      " [ 2  1 19  2]]\n"
     ]
    }
   ],
   "source": [
    "# Create a NumPy array of shape (4, 4) filled with random integers\n",
    "array = np.random.randint(1, 21, size=(4, 4))\n",
    "\n",
    "print(\"The original array :\\n\")\n",
    "print(array)"
   ]
  },
  {
   "cell_type": "code",
   "execution_count": 39,
   "id": "a5c05e6f",
   "metadata": {},
   "outputs": [
    {
     "name": "stdout",
     "output_type": "stream",
     "text": [
      "New array :\n",
      "\n",
      "[[ 8  4 10 10]\n",
      " [10 10 10  5]\n",
      " [10  4  4  7]\n",
      " [ 2  1 10  2]]\n"
     ]
    }
   ],
   "source": [
    "# Use boolean indexing to set all elements greater than 10 to 10\n",
    "array[array > 10] = 10\n",
    "\n",
    "print(\"New array :\\n\")\n",
    "print(array)"
   ]
  }
 ],
 "metadata": {
  "kernelspec": {
   "display_name": ".tonny",
   "language": "python",
   "name": "python3"
  },
  "language_info": {
   "codemirror_mode": {
    "name": "ipython",
    "version": 3
   },
   "file_extension": ".py",
   "mimetype": "text/x-python",
   "name": "python",
   "nbconvert_exporter": "python",
   "pygments_lexer": "ipython3",
   "version": "3.14.0"
  }
 },
 "nbformat": 4,
 "nbformat_minor": 5
}
