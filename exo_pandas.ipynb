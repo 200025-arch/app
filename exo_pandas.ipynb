{
 "cells": [
  {
   "cell_type": "code",
   "execution_count": 1,
   "id": "65f685ec",
   "metadata": {},
   "outputs": [],
   "source": [
    "a = 1"
   ]
  },
  {
   "cell_type": "code",
   "execution_count": 2,
   "id": "55930d39",
   "metadata": {},
   "outputs": [
    {
     "name": "stdout",
     "output_type": "stream",
     "text": [
      "1\n"
     ]
    }
   ],
   "source": [
    "print(a)"
   ]
  },
  {
   "cell_type": "markdown",
   "id": "c10d1f78",
   "metadata": {},
   "source": [
    "#### Exos"
   ]
  },
  {
   "cell_type": "code",
   "execution_count": 3,
   "id": "e2161207",
   "metadata": {},
   "outputs": [],
   "source": [
    "import pandas as pd"
   ]
  },
  {
   "cell_type": "code",
   "execution_count": 4,
   "id": "24713f6f",
   "metadata": {},
   "outputs": [],
   "source": [
    "import numpy as np"
   ]
  },
  {
   "cell_type": "code",
   "execution_count": 50,
   "id": "1a9f088c",
   "metadata": {},
   "outputs": [
    {
     "name": "stdout",
     "output_type": "stream",
     "text": [
      "[[10 21 14 22]\n",
      " [ 3 12  5 21]\n",
      " [17 14 20 24]\n",
      " [ 3  1  2 19]\n",
      " [22  7  7 12]\n",
      " [ 5 10 14 24]] \n",
      "\n",
      "Le Dataframe :\n",
      "\n",
      "    0   1   2   3\n",
      "0  10  21  14  22\n",
      "1   3  12   5  21\n",
      "2  17  14  20  24\n",
      "3   3   1   2  19\n",
      "4  22   7   7  12\n",
      "5   5  10  14  24\n"
     ]
    }
   ],
   "source": [
    "array = np.random.randint(1, 25, size=(6, 4))\n",
    "\n",
    "print(array, '\\n')\n",
    "\n",
    "df = pd.DataFrame(array)\n",
    "\n",
    "print(\"Le Dataframe :\\n\")\n",
    "print(df)"
   ]
  },
  {
   "cell_type": "code",
   "execution_count": 6,
   "id": "7edddb2a",
   "metadata": {},
   "outputs": [
    {
     "name": "stdout",
     "output_type": "stream",
     "text": [
      "Original DataFrame:\n",
      "    A   B   C   D\n",
      "0  55  98  52  72\n",
      "1  31  99  65  69\n",
      "2  24  83  20  55\n",
      "3  55  62  79   5\n",
      "4  72  25  71  41\n",
      "5  40  40  19  35\n",
      "DataFrame with new index:\n",
      "     B   C   D\n",
      "A             \n",
      "55  98  52  72\n",
      "31  99  65  69\n",
      "24  83  20  55\n",
      "55  62  79   5\n",
      "72  25  71  41\n",
      "40  40  19  35\n"
     ]
    }
   ],
   "source": [
    "# Create a Pandas DataFrame with 4 columns and 6 rows filled with random integers\n",
    "df = pd.DataFrame(np.random.randint(1, 100, size=(6, 4)), columns=['A', 'B', 'C', 'D'])\n",
    "print(\"Original DataFrame:\")\n",
    "print(df)\n",
    "\n",
    "# Set the index to be the first column\n",
    "df.set_index('A', inplace=True)\n",
    "print(\"DataFrame with new index:\")\n",
    "print(df)"
   ]
  },
  {
   "cell_type": "markdown",
   "id": "5959c29c",
   "metadata": {},
   "source": [
    "#### Exo 2"
   ]
  },
  {
   "cell_type": "code",
   "execution_count": 7,
   "id": "a872c2c7",
   "metadata": {},
   "outputs": [
    {
     "name": "stdout",
     "output_type": "stream",
     "text": [
      "The original dataframe :\n",
      "\n",
      "   A  B  C\n",
      "X  3  9  1\n",
      "Y  3  9  9\n",
      "Z  6  6  2\n"
     ]
    }
   ],
   "source": [
    "df = pd.DataFrame(np.random.randint(1, 10, size=(3, 3)), columns=['A', 'B', 'C'], index=['X', 'Y', 'Z'])\n",
    "\n",
    "print(\"The original dataframe :\\n\")\n",
    "print(df)"
   ]
  },
  {
   "cell_type": "code",
   "execution_count": 8,
   "id": "d71afd38",
   "metadata": {},
   "outputs": [
    {
     "name": "stdout",
     "output_type": "stream",
     "text": [
      "The element at row 'Y' and column 'B' is : 9\n"
     ]
    }
   ],
   "source": [
    "#Accessing element at row y and column b\n",
    "element = df.at['Y', 'B']\n",
    "print(f\"The element at row 'Y' and column 'B' is : {element}\")"
   ]
  },
  {
   "cell_type": "markdown",
   "id": "4bc86f39",
   "metadata": {},
   "source": [
    "### Exo 3"
   ]
  },
  {
   "cell_type": "code",
   "execution_count": 9,
   "id": "1765a815",
   "metadata": {},
   "outputs": [
    {
     "name": "stdout",
     "output_type": "stream",
     "text": [
      "The original Dataframe :\n",
      "\n",
      "    A   B   C\n",
      "0  14   9   6\n",
      "1   8   5   5\n",
      "2  11   1  13\n",
      "3   1  10   1\n",
      "4   8   6  13\n"
     ]
    }
   ],
   "source": [
    "df = pd.DataFrame(np.random.randint(1, 15, size=(5, 3)), columns=['A', 'B', 'C'])\n",
    "\n",
    "print(\"The original Dataframe :\\n\")\n",
    "print(df)"
   ]
  },
  {
   "cell_type": "code",
   "execution_count": 10,
   "id": "f1b87ff7",
   "metadata": {},
   "outputs": [
    {
     "name": "stdout",
     "output_type": "stream",
     "text": [
      "Ajout d'une nouvelle colonne :\n",
      "\n",
      "    A   B   C    D\n",
      "0  14   9   6  126\n",
      "1   8   5   5   40\n",
      "2  11   1  13   11\n",
      "3   1  10   1   10\n",
      "4   8   6  13   48\n"
     ]
    }
   ],
   "source": [
    "#Ajout colonne\n",
    "df['D'] = df['A'] * df['B']\n",
    "\n",
    "print(\"Ajout d'une nouvelle colonne :\\n\")\n",
    "print(df)"
   ]
  },
  {
   "cell_type": "markdown",
   "id": "5000e08b",
   "metadata": {},
   "source": [
    "#### Exo 4"
   ]
  },
  {
   "cell_type": "code",
   "execution_count": 11,
   "id": "cdfa85e6",
   "metadata": {},
   "outputs": [
    {
     "name": "stdout",
     "output_type": "stream",
     "text": [
      "The original Dataframe :\n",
      "\n",
      "    A   B   C\n",
      "0  12  11   7\n",
      "1   7   4   8\n",
      "2   2   2  10\n",
      "3  12   7   3\n"
     ]
    }
   ],
   "source": [
    "df = pd.DataFrame(np.random.randint(1, 13, size=(4, 3)), columns=['A', 'B', 'C'])\n",
    "\n",
    "print(\"The original Dataframe :\\n\")\n",
    "print(df)"
   ]
  },
  {
   "cell_type": "code",
   "execution_count": 13,
   "id": "f7072927",
   "metadata": {},
   "outputs": [
    {
     "name": "stdout",
     "output_type": "stream",
     "text": [
      "Somme des lignes :  \n",
      "\n",
      "0    30\n",
      "1    19\n",
      "2    14\n",
      "3    22\n",
      "dtype: int64 \n",
      "\n",
      "Somme des colonnes : \n",
      "\n",
      "A    33\n",
      "B    24\n",
      "C    28\n",
      "dtype: int64\n"
     ]
    }
   ],
   "source": [
    "#sommes des lignes\n",
    "rows_sum = df.sum(axis=1)\n",
    "columns_sum = df.sum(axis=0)\n",
    "\n",
    "print(f\"Somme des lignes :  \\n\")\n",
    "print(rows_sum, '\\n')\n",
    "print(f\"Somme des colonnes : \\n\")\n",
    "print(columns_sum)"
   ]
  },
  {
   "cell_type": "markdown",
   "id": "04f8cf59",
   "metadata": {},
   "source": [
    "#### Exo 5"
   ]
  },
  {
   "cell_type": "code",
   "execution_count": 14,
   "id": "973b9dad",
   "metadata": {},
   "outputs": [
    {
     "name": "stdout",
     "output_type": "stream",
     "text": [
      "The original Dataframe :\n",
      "\n",
      "    A   B   C\n",
      "0   3   4   1\n",
      "1   6  14   5\n",
      "2   1  10   5\n",
      "3  15   6  10\n",
      "4  13   4   4\n"
     ]
    }
   ],
   "source": [
    "#Data cleaning\n",
    "df = pd.DataFrame(np.random.randint(1, 16, size=(5,3)), columns=['A', 'B', 'C'])\n",
    "\n",
    "print(\"The original Dataframe :\\n\")\n",
    "print(df)"
   ]
  },
  {
   "cell_type": "code",
   "execution_count": 22,
   "id": "8025990a",
   "metadata": {},
   "outputs": [],
   "source": [
    "#Introdruire des valeurs manquantes \n",
    "df.iloc[0,1] = np.nan\n",
    "df.iloc[4,2] = np.nan\n",
    "df.iloc[2,1] = np.nan\n",
    "df.iloc[4,0] = np.nan"
   ]
  },
  {
   "cell_type": "code",
   "execution_count": 23,
   "id": "94aefbeb",
   "metadata": {},
   "outputs": [
    {
     "name": "stdout",
     "output_type": "stream",
     "text": [
      "      A     B     C\n",
      "0   3.0   NaN   1.0\n",
      "1   6.0  14.0   5.0\n",
      "2   1.0   NaN   5.0\n",
      "3  15.0   6.0  10.0\n",
      "4   NaN   4.0   NaN\n"
     ]
    }
   ],
   "source": [
    "print(df)"
   ]
  },
  {
   "cell_type": "code",
   "execution_count": 28,
   "id": "0176a897",
   "metadata": {},
   "outputs": [],
   "source": [
    "#Remplir les #NA\n",
    "df.fillna(df.mean(), inplace=True)\n"
   ]
  },
  {
   "cell_type": "code",
   "execution_count": 29,
   "id": "920e2ec8",
   "metadata": {},
   "outputs": [
    {
     "name": "stdout",
     "output_type": "stream",
     "text": [
      "       A        B      C\n",
      "0   3.00   6.2500   1.00\n",
      "1   6.00  14.0000   5.00\n",
      "2   1.00   7.5625   5.00\n",
      "3  15.00   6.0000  10.00\n",
      "4   6.25   4.0000   5.25\n"
     ]
    }
   ],
   "source": [
    "print(df)"
   ]
  },
  {
   "cell_type": "markdown",
   "id": "9496af1a",
   "metadata": {},
   "source": [
    "#### Exo 6"
   ]
  },
  {
   "cell_type": "code",
   "execution_count": 53,
   "id": "d5dc8d43",
   "metadata": {},
   "outputs": [
    {
     "name": "stdout",
     "output_type": "stream",
     "text": [
      "The original Dataframe :\n",
      "\n",
      "    A   B   C   D\n",
      "0  21   9  11   8\n",
      "1  16  24  14  17\n",
      "2   7  21  23   4\n",
      "3   5  15   9  17\n",
      "4  10  23  14  11\n",
      "5   4   4  22  14\n"
     ]
    }
   ],
   "source": [
    "df = pd.DataFrame(np.random.randint(4, 25, size=(6, 4)), columns=['A', 'B', 'C', 'D'])\n",
    "print(\"The original Dataframe :\\n\")\n",
    "print(df)"
   ]
  },
  {
   "cell_type": "code",
   "execution_count": 54,
   "id": "ea7ff1ec",
   "metadata": {},
   "outputs": [
    {
     "data": {
      "text/html": [
       "<div>\n",
       "<style scoped>\n",
       "    .dataframe tbody tr th:only-of-type {\n",
       "        vertical-align: middle;\n",
       "    }\n",
       "\n",
       "    .dataframe tbody tr th {\n",
       "        vertical-align: top;\n",
       "    }\n",
       "\n",
       "    .dataframe thead th {\n",
       "        text-align: right;\n",
       "    }\n",
       "</style>\n",
       "<table border=\"1\" class=\"dataframe\">\n",
       "  <thead>\n",
       "    <tr style=\"text-align: right;\">\n",
       "      <th></th>\n",
       "      <th>A</th>\n",
       "      <th>B</th>\n",
       "      <th>C</th>\n",
       "      <th>D</th>\n",
       "    </tr>\n",
       "  </thead>\n",
       "  <tbody>\n",
       "    <tr>\n",
       "      <th>0</th>\n",
       "      <td>NaN</td>\n",
       "      <td>9.0</td>\n",
       "      <td>11.0</td>\n",
       "      <td>8.0</td>\n",
       "    </tr>\n",
       "    <tr>\n",
       "      <th>1</th>\n",
       "      <td>16.0</td>\n",
       "      <td>24.0</td>\n",
       "      <td>14.0</td>\n",
       "      <td>17.0</td>\n",
       "    </tr>\n",
       "    <tr>\n",
       "      <th>2</th>\n",
       "      <td>7.0</td>\n",
       "      <td>21.0</td>\n",
       "      <td>NaN</td>\n",
       "      <td>4.0</td>\n",
       "    </tr>\n",
       "    <tr>\n",
       "      <th>3</th>\n",
       "      <td>5.0</td>\n",
       "      <td>15.0</td>\n",
       "      <td>9.0</td>\n",
       "      <td>17.0</td>\n",
       "    </tr>\n",
       "    <tr>\n",
       "      <th>4</th>\n",
       "      <td>10.0</td>\n",
       "      <td>23.0</td>\n",
       "      <td>14.0</td>\n",
       "      <td>11.0</td>\n",
       "    </tr>\n",
       "    <tr>\n",
       "      <th>5</th>\n",
       "      <td>4.0</td>\n",
       "      <td>NaN</td>\n",
       "      <td>22.0</td>\n",
       "      <td>NaN</td>\n",
       "    </tr>\n",
       "  </tbody>\n",
       "</table>\n",
       "</div>"
      ],
      "text/plain": [
       "      A     B     C     D\n",
       "0   NaN   9.0  11.0   8.0\n",
       "1  16.0  24.0  14.0  17.0\n",
       "2   7.0  21.0   NaN   4.0\n",
       "3   5.0  15.0   9.0  17.0\n",
       "4  10.0  23.0  14.0  11.0\n",
       "5   4.0   NaN  22.0   NaN"
      ]
     },
     "execution_count": 54,
     "metadata": {},
     "output_type": "execute_result"
    }
   ],
   "source": [
    "#Adding some #NA values \n",
    "df.iloc[0,0] = np.nan\n",
    "df.iloc[5,3] = np.nan\n",
    "df.iloc[2,2] = np.nan\n",
    "df.iloc[5,1] = np.nan\n",
    "df"
   ]
  },
  {
   "cell_type": "code",
   "execution_count": 58,
   "id": "e79a104f",
   "metadata": {},
   "outputs": [
    {
     "name": "stdout",
     "output_type": "stream",
     "text": [
      "The Dataframe with droped values :\n"
     ]
    },
    {
     "data": {
      "text/html": [
       "<div>\n",
       "<style scoped>\n",
       "    .dataframe tbody tr th:only-of-type {\n",
       "        vertical-align: middle;\n",
       "    }\n",
       "\n",
       "    .dataframe tbody tr th {\n",
       "        vertical-align: top;\n",
       "    }\n",
       "\n",
       "    .dataframe thead th {\n",
       "        text-align: right;\n",
       "    }\n",
       "</style>\n",
       "<table border=\"1\" class=\"dataframe\">\n",
       "  <thead>\n",
       "    <tr style=\"text-align: right;\">\n",
       "      <th></th>\n",
       "      <th>A</th>\n",
       "      <th>B</th>\n",
       "      <th>C</th>\n",
       "      <th>D</th>\n",
       "    </tr>\n",
       "  </thead>\n",
       "  <tbody>\n",
       "    <tr>\n",
       "      <th>1</th>\n",
       "      <td>16.0</td>\n",
       "      <td>24.0</td>\n",
       "      <td>14.0</td>\n",
       "      <td>17.0</td>\n",
       "    </tr>\n",
       "    <tr>\n",
       "      <th>3</th>\n",
       "      <td>5.0</td>\n",
       "      <td>15.0</td>\n",
       "      <td>9.0</td>\n",
       "      <td>17.0</td>\n",
       "    </tr>\n",
       "    <tr>\n",
       "      <th>4</th>\n",
       "      <td>10.0</td>\n",
       "      <td>23.0</td>\n",
       "      <td>14.0</td>\n",
       "      <td>11.0</td>\n",
       "    </tr>\n",
       "  </tbody>\n",
       "</table>\n",
       "</div>"
      ],
      "text/plain": [
       "      A     B     C     D\n",
       "1  16.0  24.0  14.0  17.0\n",
       "3   5.0  15.0   9.0  17.0\n",
       "4  10.0  23.0  14.0  11.0"
      ]
     },
     "execution_count": 58,
     "metadata": {},
     "output_type": "execute_result"
    }
   ],
   "source": [
    "#drop #NA values (on va supprimer les lignes avec des #NA)\n",
    "df.dropna(inplace=True)\n",
    "\n",
    "print(\"The Dataframe with droped values :\")\n",
    "df"
   ]
  },
  {
   "cell_type": "markdown",
   "id": "2b771dc5",
   "metadata": {},
   "source": [
    "#### Exo 7"
   ]
  },
  {
   "cell_type": "code",
   "execution_count": 59,
   "id": "6e638db5",
   "metadata": {},
   "outputs": [
    {
     "name": "stdout",
     "output_type": "stream",
     "text": [
      "Requirement already satisfied: pandas in c:\\users\\mvoum\\desktop\\boot_camp\\python\\.tonny\\lib\\site-packages (2.3.3)\n",
      "Requirement already satisfied: numpy>=1.26.0 in c:\\users\\mvoum\\desktop\\boot_camp\\python\\.tonny\\lib\\site-packages (from pandas) (2.3.4)\n",
      "Requirement already satisfied: python-dateutil>=2.8.2 in c:\\users\\mvoum\\desktop\\boot_camp\\python\\.tonny\\lib\\site-packages (from pandas) (2.9.0.post0)\n",
      "Requirement already satisfied: pytz>=2020.1 in c:\\users\\mvoum\\desktop\\boot_camp\\python\\.tonny\\lib\\site-packages (from pandas) (2025.2)\n",
      "Requirement already satisfied: tzdata>=2022.7 in c:\\users\\mvoum\\desktop\\boot_camp\\python\\.tonny\\lib\\site-packages (from pandas) (2025.2)\n",
      "Requirement already satisfied: six>=1.5 in c:\\users\\mvoum\\desktop\\boot_camp\\python\\.tonny\\lib\\site-packages (from python-dateutil>=2.8.2->pandas) (1.17.0)\n"
     ]
    }
   ],
   "source": [
    "!pip install pandas"
   ]
  },
  {
   "cell_type": "code",
   "execution_count": 60,
   "id": "c9a2b2fb",
   "metadata": {},
   "outputs": [
    {
     "name": "stdout",
     "output_type": "stream",
     "text": [
      "Requirement already satisfied: numpy in c:\\users\\mvoum\\desktop\\boot_camp\\python\\.tonny\\lib\\site-packages (2.3.4)\n",
      "Note: you may need to restart the kernel to use updated packages.\n"
     ]
    }
   ],
   "source": [
    "%pip install numpy"
   ]
  },
  {
   "cell_type": "code",
   "execution_count": 1,
   "id": "23813a6a",
   "metadata": {},
   "outputs": [],
   "source": [
    "import pandas as pd\n",
    "import numpy as np"
   ]
  },
  {
   "cell_type": "code",
   "execution_count": 2,
   "id": "6b677b85",
   "metadata": {},
   "outputs": [
    {
     "name": "stdout",
     "output_type": "stream",
     "text": [
      "Original DataFrame:\n",
      "  Category  Value\n",
      "0        A     73\n",
      "1        C     21\n",
      "2        C      3\n",
      "3        C     82\n",
      "4        A     84\n",
      "5        A     54\n",
      "6        B     21\n",
      "7        A     49\n",
      "8        C     23\n",
      "9        A     24\n"
     ]
    }
   ],
   "source": [
    "# Create a Pandas DataFrame with 2 columns: 'Category' and 'Value'\n",
    "df = pd.DataFrame({'Category': np.random.choice(['A', 'B', 'C'], size=10), 'Value': np.random.randint(1, 100, size=10)})\n",
    "print(\"Original DataFrame:\")\n",
    "print(df)"
   ]
  },
  {
   "cell_type": "code",
   "execution_count": 3,
   "id": "d8317fa5",
   "metadata": {},
   "outputs": [
    {
     "name": "stdout",
     "output_type": "stream",
     "text": [
      "Grouped DataFrame:\n",
      "          sum   mean\n",
      "Category            \n",
      "A         284  56.80\n",
      "B          21  21.00\n",
      "C         129  32.25\n"
     ]
    }
   ],
   "source": [
    "# Group the DataFrame by 'Category' and compute the sum and mean of 'Value' for each category\n",
    "grouped = df.groupby('Category')['Value'].agg(['sum', 'mean'])\n",
    "print(\"Grouped DataFrame:\")\n",
    "print(grouped)"
   ]
  },
  {
   "cell_type": "code",
   "execution_count": 5,
   "id": "07f87739",
   "metadata": {},
   "outputs": [],
   "source": [
    "import pandas as pd\n",
    "import numpy as np"
   ]
  },
  {
   "cell_type": "code",
   "execution_count": 6,
   "id": "dc5a6ce2",
   "metadata": {},
   "outputs": [
    {
     "name": "stdout",
     "output_type": "stream",
     "text": [
      "The original Dataframe :\n",
      "\n",
      "         Product Category  Sales\n",
      "0            PS5        C     14\n",
      "1  Hp Elite Book        C     20\n",
      "2  Hp Elite Book        B      4\n",
      "3  Hp Elite Book        B     12\n",
      "4            PS5        A     18\n",
      "5            PS5        C     14\n",
      "6      Iphone 14        A      5\n",
      "7            PS5        C     17\n",
      "8            PS5        C     11\n",
      "9  Hp Elite Book        B     19\n"
     ]
    }
   ],
   "source": [
    "# Create a Pandas DataFrame with 3 columns: 'Product', 'Category', and 'Sales'\n",
    "df = pd.DataFrame({'Product' : np.random.choice(['Iphone 14', 'Hp Elite Book', 'PS5'], size=10), 'Category': np.random.choice(['A', 'B', 'C'], size=10), 'Sales' :np.random.randint(1, 25, size=10)})\n",
    "\n",
    "print(\"The original Dataframe :\\n\")\n",
    "print(df)"
   ]
  },
  {
   "cell_type": "code",
   "execution_count": 7,
   "id": "91bcc8b9",
   "metadata": {},
   "outputs": [
    {
     "name": "stdout",
     "output_type": "stream",
     "text": [
      "Groupement par catégorie :\n",
      "\n",
      "Category\n",
      "A    23\n",
      "B    35\n",
      "C    76\n",
      "Name: Sales, dtype: int32\n"
     ]
    }
   ],
   "source": [
    "# Group the DataFrame by 'Category' and compute the total sales for each category\n",
    "\n",
    "grouped = df.groupby('Category')['Sales'].sum()\n",
    "\n",
    "print(\"Groupement par catégorie :\\n\")\n",
    "print(grouped)"
   ]
  },
  {
   "cell_type": "markdown",
   "id": "6aaf055e",
   "metadata": {},
   "source": [
    "#### Exo 8"
   ]
  },
  {
   "cell_type": "code",
   "execution_count": 8,
   "id": "b56261ac",
   "metadata": {},
   "outputs": [
    {
     "name": "stdout",
     "output_type": "stream",
     "text": [
      "The first dataframe :\n",
      "\n",
      "  Category  Value\n",
      "0        A     37\n",
      "1        B     79\n",
      "2        C     57\n",
      "3        D     20 \n",
      "\n",
      "The second dataframe :\n",
      "\n",
      "  Category  Value\n",
      "0        A     43\n",
      "1        F     90\n",
      "2        C     62\n",
      "3        E     41\n"
     ]
    }
   ],
   "source": [
    "df1 = pd.DataFrame({'Category':['A', 'B', 'C', 'D'], 'Value' : np.random.randint(1, 100, size=4)})\n",
    "df2 = pd.DataFrame({'Category':['A', 'F', 'C', 'E'], 'Value' : np.random.randint(1, 100, size=4)})\n",
    "\n",
    "print(\"The first dataframe :\\n\")\n",
    "print(df1, '\\n')\n",
    "\n",
    "print(\"The second dataframe :\\n\")\n",
    "print(df2)\n",
    "\n"
   ]
  },
  {
   "cell_type": "code",
   "execution_count": 9,
   "id": "a4eb3a2c",
   "metadata": {},
   "outputs": [
    {
     "name": "stdout",
     "output_type": "stream",
     "text": [
      "  Category  Value_x  Value_y\n",
      "0        A       37       43\n",
      "1        C       57       62\n"
     ]
    }
   ],
   "source": [
    "#merger les deux Dataframe\n",
    "merged = pd.merge(df1, df2, on='Category')\n",
    "print(merged)"
   ]
  }
 ],
 "metadata": {
  "kernelspec": {
   "display_name": ".tonny",
   "language": "python",
   "name": "python3"
  },
  "language_info": {
   "codemirror_mode": {
    "name": "ipython",
    "version": 3
   },
   "file_extension": ".py",
   "mimetype": "text/x-python",
   "name": "python",
   "nbconvert_exporter": "python",
   "pygments_lexer": "ipython3",
   "version": "3.14.0"
  }
 },
 "nbformat": 4,
 "nbformat_minor": 5
}
